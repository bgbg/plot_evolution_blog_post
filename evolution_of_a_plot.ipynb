{
 "cells": [
  {
   "cell_type": "markdown",
   "metadata": {},
   "source": [
    "# Evolution of a plot -- better data visualization, one step at a time\n",
    "\n",
    "This notebook contains the code that accompanies my blog post on http://data.blog. It demonstrates iterative improvement of a single plot. See the blog post for more details. Feel free asking questions and suggesting improvements. "
   ]
  },
  {
   "cell_type": "code",
   "execution_count": null,
   "metadata": {
    "collapsed": false
   },
   "outputs": [],
   "source": [
    "%matplotlib inline\n",
    "import pandas as pd\n",
    "import time\n",
    "from matplotlib import pylab as plt\n",
    "import scipy.stats as stats\n",
    "import numpy as np\n",
    "\n",
    "\n",
    "from IPython.display import display, Image"
   ]
  },
  {
   "cell_type": "code",
   "execution_count": null,
   "metadata": {
    "collapsed": false
   },
   "outputs": [],
   "source": [
    "def gini(list_of_values):\n",
    "    # copied from here: http://planspace.org/2013/06/21/how-to-calculate-gini-coefficient-from-raw-data-in-python/\n",
    "    sorted_list = sorted(list_of_values)\n",
    "    height, area = 0, 0\n",
    "    for value in sorted_list:\n",
    "        height += value\n",
    "        area += height - value / 2.\n",
    "    fair_area = height * len(list_of_values) / 2\n",
    "    return (fair_area - area) / fair_area\n",
    "\n",
    "def save_fig(fig=None):\n",
    "    if fig is None:\n",
    "        fig = plt.gcf()\n",
    "    num = save_fig.N +1\n",
    "    save_fig.N = num\n",
    "    fn = \"%s_%02d.png\" % (save_fig.prefix, num)\n",
    "    fig.savefig(fn)\n",
    "    print(\"-==saved %s==-\" % fn)\n",
    "save_fig.prefix = \"evolution_of_a_plot\"\n",
    "save_fig.N = 0\n",
    "!rm -f evolution_of_a_plot_[0-9][0-9].png"
   ]
  },
  {
   "cell_type": "code",
   "execution_count": null,
   "metadata": {
    "collapsed": false
   },
   "outputs": [],
   "source": [
    "tbl = pd.read_csv('data/knesset_data.csv')\n",
    "tbl_dates = pd.read_csv('data/knesset_data_dates.csv')\n",
    "tbl = tbl.merge(tbl_dates, on='number')\n",
    "to_epoch = lambda v: int(time.mktime(time.strptime(str(v), '%Y-%m-%d')))\n",
    "tbl['date_from_epoch'] = tbl.date_from.apply(to_epoch)\n",
    "tbl.date_from = pd.to_datetime(tbl.date_from)\n",
    "tbl.date_to = pd.to_datetime(tbl.date_to)\n",
    "tbl.head()"
   ]
  },
  {
   "cell_type": "code",
   "execution_count": null,
   "metadata": {
    "collapsed": false
   },
   "outputs": [],
   "source": [
    "tbl_gini = pd.DataFrame(\n",
    "    tbl.groupby(\n",
    "        ['number', 'date_from', 'date_from_epoch']\n",
    "    )['seats'].apply(gini)).reset_index().rename(\n",
    "    columns={'seats': 'gini'})"
   ]
  },
  {
   "cell_type": "code",
   "execution_count": null,
   "metadata": {
    "collapsed": false
   },
   "outputs": [],
   "source": [
    "fig, ax = plt.subplots(1, 1)\n",
    "ax.plot(tbl_gini.date_from, tbl_gini.gini, '-o')\n",
    "ax.set_ylabel('Knesset seats Gini Index')\n",
    "save_fig(fig)"
   ]
  },
  {
   "cell_type": "markdown",
   "metadata": {},
   "source": [
    "Instant improvement in graph aesthetics is acheived by importing `seaborn`"
   ]
  },
  {
   "cell_type": "code",
   "execution_count": null,
   "metadata": {
    "collapsed": false
   },
   "outputs": [],
   "source": [
    "import seaborn as sns"
   ]
  },
  {
   "cell_type": "code",
   "execution_count": null,
   "metadata": {
    "collapsed": false
   },
   "outputs": [],
   "source": [
    "fig, ax = plt.subplots(1, 1)\n",
    "ax.plot(tbl_gini.date_from, tbl_gini.gini, '-o')\n",
    "ax.set_ylabel('Knesset seats Gini Index')\n",
    "save_fig(fig)"
   ]
  },
  {
   "cell_type": "code",
   "execution_count": null,
   "metadata": {
    "collapsed": false
   },
   "outputs": [],
   "source": [
    "fig, ax = plt.subplots(1, 1)\n",
    "fig.set_facecolor('#EAEAF2')\n",
    "ax.plot(tbl_gini.date_from, tbl_gini.gini, '-o')\n",
    "ax.set_ylabel('Knesset seats Gini Index')\n",
    "save_fig(fig)"
   ]
  },
  {
   "cell_type": "markdown",
   "metadata": {},
   "source": [
    "The Gini Index remains unchanged during one Knesset assembly (in theory). Thus, a step plot is more accurate:"
   ]
  },
  {
   "cell_type": "code",
   "execution_count": null,
   "metadata": {
    "collapsed": false
   },
   "outputs": [],
   "source": [
    "fig, ax = plt.subplots(1, 1)\n",
    "ax.step(tbl_gini.date_from, tbl_gini.gini, where='post')\n",
    "fig.set_facecolor('#EAEAF2')\n",
    "ax.set_ylabel('Knesset seats Gini Index')\n",
    "save_fig(fig)"
   ]
  },
  {
   "cell_type": "markdown",
   "metadata": {},
   "source": [
    "Let's change the aspect ratio"
   ]
  },
  {
   "cell_type": "code",
   "execution_count": null,
   "metadata": {
    "collapsed": false,
    "scrolled": true
   },
   "outputs": [],
   "source": [
    "figsize=(10, 2.5)\n",
    "fig, ax = plt.subplots(1, 1, figsize=figsize)\n",
    "fig.set_facecolor('#EAEAF2')\n",
    "ax.step(tbl_gini.date_from, tbl_gini.gini, where='post')\n",
    "ax.set_ylabel('Knesset seats Gini Index')\n",
    "save_fig(fig)"
   ]
  },
  {
   "cell_type": "code",
   "execution_count": null,
   "metadata": {
    "collapsed": false
   },
   "outputs": [],
   "source": [
    "fig, ax = plt.subplots(1, 1, figsize=figsize)\n",
    "fig.set_facecolor('#EAEAF2')\n",
    "ax.step(tbl_gini.date_from, tbl_gini.gini, where='post')\n",
    "ax.set_ylabel('Knesset seats Gini Index', \n",
    "              rotation=0,\n",
    "              ha='right', # horizontalalignment\n",
    "             )\n",
    "save_fig(fig)"
   ]
  },
  {
   "cell_type": "code",
   "execution_count": null,
   "metadata": {
    "collapsed": false
   },
   "outputs": [],
   "source": [
    "def fewer_ticks(ax, xy='xy', nticks=3, decimals=None):\n",
    "    for letter in list(xy):\n",
    "        if letter.lower() == 'x':\n",
    "            getlim = ax.get_xlim\n",
    "            setticks = ax.set_xticks\n",
    "        elif letter.lower() == 'y':\n",
    "            getlim = ax.get_ylim\n",
    "            setticks = ax.set_yticks\n",
    "        else:\n",
    "            raise RuntimeError()\n",
    "        lm = getlim()\n",
    "        ticks = np.linspace(lm[0], lm[1], nticks)\n",
    "        if decimals is not None:\n",
    "            ticks = np.round(ticks, decimals)\n",
    "        setticks(ticks)\n",
    "save_fig(fig)        "
   ]
  },
  {
   "cell_type": "code",
   "execution_count": null,
   "metadata": {
    "collapsed": false
   },
   "outputs": [],
   "source": [
    "fig, ax = plt.subplots(1, 1, figsize=figsize)\n",
    "fig.set_facecolor('#EAEAF2')\n",
    "ax.step(tbl_gini.date_from, tbl_gini.gini, where='post')\n",
    "ax.set_ylabel('Seat inequality\\n(Gini Coefficient)', \n",
    "              rotation=0,\n",
    "              ha='right', # horizontalalignment\n",
    "              ma='left', # multiline alignment\n",
    "             )\n",
    "\n",
    "ax.set_ylim(0.3, .7)\n",
    "fewer_ticks(ax, xy='y', decimals=1, nticks=3) # compare  nticks=2 vs 3"
   ]
  },
  {
   "cell_type": "code",
   "execution_count": null,
   "metadata": {
    "collapsed": false
   },
   "outputs": [],
   "source": [
    "fig, ax = plt.subplots(1, 1, figsize=figsize)\n",
    "fig.set_facecolor('#EAEAF2')\n",
    "ax.step(tbl_gini.date_from, tbl_gini.gini,where='post')\n",
    "ax.set_ylabel('Seat inequality\\n(Gini Coefficient)', \n",
    "              rotation=0,\n",
    "              ha='right', # horizontalalignment\n",
    "              ma='left', # multiline alignment\n",
    "             )\n",
    "\n",
    "fewer_ticks(ax, 'y', nticks=4) \n",
    "save_fig(fig)"
   ]
  },
  {
   "cell_type": "code",
   "execution_count": null,
   "metadata": {
    "collapsed": false
   },
   "outputs": [],
   "source": [
    "fig, ax = plt.subplots(1, 1, figsize=figsize)\n",
    "fig.set_facecolor('#EAEAF2')\n",
    "ax.step(tbl_gini.date_from, tbl_gini.gini, where='post')\n",
    "ax.set_ylabel('Seat inequality\\n(Gini Coefficient)', \n",
    "              rotation=0,\n",
    "              ha='right', # horizontalalignment\n",
    "              ma='left', # multiline alignment\n",
    "             )\n",
    "\n",
    "ax.set_ylim(0.3, 0.7)\n",
    "ax.set_xlim(pd.to_datetime('1948-05-14'), pd.to_datetime('2015-11-23'))\n",
    "\n",
    "\n",
    "fewer_ticks(ax, 'y')\n",
    "ax.set_xticks([t.to_datetime() for t in tbl_gini.date_from])\n",
    "save_fig(fig)"
   ]
  },
  {
   "cell_type": "code",
   "execution_count": null,
   "metadata": {
    "collapsed": false,
    "scrolled": true
   },
   "outputs": [],
   "source": [
    "fig, ax = plt.subplots(1, 1, figsize=figsize)\n",
    "fig.set_facecolor('#EAEAF2')\n",
    "ax.step(tbl_gini.date_from, tbl_gini.gini, where='post')\n",
    "ax.set_ylabel('Seat inequality\\n(Gini Coefficient)', \n",
    "              rotation=0,\n",
    "              ha='right', # horizontalalignment\n",
    "              ma='left', # multiline alignment\n",
    "             )\n",
    "\n",
    "\n",
    "ax.set_ylim(0.3, 0.7)\n",
    "ax.set_xlim(pd.to_datetime('1948-05-14'), pd.to_datetime('2015-11-23'))\n",
    "\n",
    "\n",
    "fewer_ticks(ax, 'y')\n",
    "ax.set_xticks([t.to_datetime() for t in tbl_gini.date_from])\n",
    "for i, l in enumerate(ax.get_xticklabels()):\n",
    "    if i % 2:\n",
    "        l.set_y( - 0.1)\n",
    "save_fig(fig)"
   ]
  },
  {
   "cell_type": "code",
   "execution_count": null,
   "metadata": {
    "collapsed": false
   },
   "outputs": [],
   "source": [
    "yr = tbl_gini.date_from.apply(lambda x: x.year)\n",
    "\n",
    "sx = (yr >= 1996) & (yr <= 2003)\n",
    "x = tbl_gini.loc[sx].date_from.values\n",
    "x = [x[0], x[0], x[1], x[1], x[2]]\n",
    "\n",
    "sy = (yr >= 1992) & (yr <= 1999)\n",
    "y = tbl_gini.loc[sy].gini.values\n",
    "y = [y[0], y[1], y[1], y[2], y[2]]"
   ]
  },
  {
   "cell_type": "code",
   "execution_count": null,
   "metadata": {
    "collapsed": false
   },
   "outputs": [],
   "source": [
    "fig, ax = plt.subplots(1, 1, figsize=figsize)\n",
    "ax.step(tbl_gini.date_from, tbl_gini.gini, where='post')\n",
    "ax.set_ylabel('Seat inequality\\n(Gini Coefficient)', \n",
    "              rotation=0,\n",
    "              ha='right', # horizontalalignment\n",
    "              ma='left', # multiline alignment\n",
    "             )\n",
    "\n",
    "\n",
    "ax.set_ylim(0.3, 0.7)\n",
    "ax.set_xlim(pd.to_datetime('1948-05-14'), pd.to_datetime('2015-11-23'))\n",
    "\n",
    "ax.set_ylim(0.25, 0.75)\n",
    "fewer_ticks(ax, 'y')\n",
    "ax.set_xticks([t.to_datetime() for t in tbl_gini.date_from])\n",
    "\n",
    "\n",
    "for i, l in enumerate(ax.get_xticklabels()):\n",
    "    if i % 2:\n",
    "        l.set_y( - 0.1)\n",
    "\n",
    "\n",
    "ax.plot(x, y, '-', color=sns.xkcd_rgb['pale red'])\n",
    "ax.plot([x[1], x[2]], [y[1], y[2]], 'o', color=sns.xkcd_rgb['pale red'])\n",
    "ax.text(pd.to_datetime('1996-11'),\n",
    "        0.61,\n",
    "        'Direct PM elections',\n",
    "        ha='left',\n",
    "        color=sns.xkcd_rgb['pale red'],\n",
    "       )\n",
    "\n"
   ]
  },
  {
   "cell_type": "code",
   "execution_count": null,
   "metadata": {
    "collapsed": false
   },
   "outputs": [],
   "source": [
    "fig, ax = plt.subplots(1, 1, figsize=figsize)\n",
    "fig.set_facecolor('#EAEAF2')\n",
    "ax.step(tbl_gini.date_from, tbl_gini.gini, where='post')\n",
    "ax.set_ylabel('Seat inequality\\n(Gini Coefficient)', \n",
    "              rotation=0,\n",
    "              ha='right', # horizontalalignment\n",
    "              ma='left', # multiline alignment\n",
    "             )\n",
    "\n",
    "\n",
    "ax.set_ylim(0.3, 0.7)\n",
    "ax.set_xlim(pd.to_datetime('1948-05-14'), pd.to_datetime('2015-11-23'))\n",
    "\n",
    "fewer_ticks(ax, 'y')\n",
    "ax.set_xticks([t.to_datetime() for t in tbl_gini.date_from])\n",
    "ax.text(0, # text X\n",
    "        0.90, # Y\n",
    "        'More inequality',\n",
    "        color='dimgray',\n",
    "        va='bottom',\n",
    "        transform=ax.transAxes, # XY coordinates are relative to the plot\n",
    "       \n",
    "       )\n",
    "ax.text(0, \n",
    "        0.1,\n",
    "        'Less inequality',\n",
    "        color='dimgray', \n",
    "        va='top',\n",
    "        transform=ax.transAxes\n",
    "       )\n",
    "\n",
    "for i, l in enumerate(ax.get_xticklabels()):\n",
    "    if i % 2:\n",
    "        l.set_y( - 0.1)\n",
    "\n",
    "\n",
    "ax.plot(x, y, '-', color=sns.xkcd_rgb['pale red'])\n",
    "ax.plot([x[1], x[2]], [y[1], y[2]], 'o', color=sns.xkcd_rgb['pale red'])\n",
    "ax.text(pd.to_datetime('1996-11'),\n",
    "        0.61,\n",
    "        'Direct PM elections',\n",
    "        ha='left',\n",
    "        color=sns.xkcd_rgb['pale red'],\n",
    "       )\n",
    "\n",
    "ax.set_title('Direct PM elections introduced and cancelled, the effect stays',\n",
    "             fontsize='x-large',\n",
    "             x=0, ha='left',\n",
    "            )\n",
    "save_fig(fig)"
   ]
  },
  {
   "cell_type": "code",
   "execution_count": null,
   "metadata": {
    "collapsed": true
   },
   "outputs": [],
   "source": []
  }
 ],
 "metadata": {
  "kernelspec": {
   "display_name": "Python 2",
   "language": "python",
   "name": "python2"
  },
  "language_info": {
   "codemirror_mode": {
    "name": "ipython",
    "version": 2
   },
   "file_extension": ".py",
   "mimetype": "text/x-python",
   "name": "python",
   "nbconvert_exporter": "python",
   "pygments_lexer": "ipython2",
   "version": "2.7.12"
  }
 },
 "nbformat": 4,
 "nbformat_minor": 0
}
